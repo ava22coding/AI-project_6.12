{
  "cells": [
    {
      "cell_type": "markdown",
      "metadata": {
        "id": "7tzsDTKzYjII"
      },
      "source": [
        "** 기존 코드 **"
      ]
    },
    {
      "cell_type": "code",
      "execution_count": null,
      "metadata": {
        "colab": {
          "base_uri": "https://localhost:8080/"
        },
        "id": "t6YQPHhXjJg_",
        "outputId": "99cfe31c-2234-4457-dee0-cd4006d56224"
      },
      "outputs": [
        {
          "output_type": "stream",
          "name": "stdout",
          "text": [
            "   Unnamed: 0  carat      cut color clarity  depth  table  price     x     y  \\\n",
            "0           1   0.23    Ideal     E     SI2   61.5   55.0    326  3.95  3.98   \n",
            "1           2   0.21  Premium     E     SI1   59.8   61.0    326  3.89  3.84   \n",
            "\n",
            "      z  \n",
            "0  2.43  \n",
            "1  2.31  \n",
            "<class 'pandas.core.frame.DataFrame'>\n",
            "RangeIndex: 53940 entries, 0 to 53939\n",
            "Data columns (total 10 columns):\n",
            " #   Column   Non-Null Count  Dtype  \n",
            "---  ------   --------------  -----  \n",
            " 0   carat    53940 non-null  float64\n",
            " 1   cut      53940 non-null  object \n",
            " 2   color    53940 non-null  object \n",
            " 3   clarity  53940 non-null  object \n",
            " 4   depth    53940 non-null  float64\n",
            " 5   table    53940 non-null  float64\n",
            " 6   price    53940 non-null  int64  \n",
            " 7   x        53940 non-null  float64\n",
            " 8   y        53940 non-null  float64\n",
            " 9   z        53940 non-null  float64\n",
            "dtypes: float64(6), int64(1), object(3)\n",
            "memory usage: 4.1+ MB\n",
            "carat\n",
            "0.30    2604\n",
            "0.31    2249\n",
            "1.01    2242\n",
            "0.70    1981\n",
            "0.32    1840\n",
            "        ... \n",
            "3.02       1\n",
            "3.65       1\n",
            "3.50       1\n",
            "3.22       1\n",
            "3.11       1\n",
            "Name: count, Length: 273, dtype: int64\n",
            "cut\n",
            "Ideal        21551\n",
            "Premium      13791\n",
            "Very Good    12082\n",
            "Good          4906\n",
            "Fair          1610\n",
            "Name: count, dtype: int64\n",
            "color\n",
            "G    11292\n",
            "E     9797\n",
            "F     9542\n",
            "H     8304\n",
            "D     6775\n",
            "I     5422\n",
            "J     2808\n",
            "Name: count, dtype: int64\n",
            "clarity\n",
            "SI1     13065\n",
            "VS2     12258\n",
            "SI2      9194\n",
            "VS1      8171\n",
            "VVS2     5066\n",
            "VVS1     3655\n",
            "IF       1790\n",
            "I1        741\n",
            "Name: count, dtype: int64\n",
            "depth\n",
            "62.0    2239\n",
            "61.9    2163\n",
            "61.8    2077\n",
            "62.2    2039\n",
            "62.1    2020\n",
            "        ... \n",
            "71.3       1\n",
            "44.0       1\n",
            "53.0       1\n",
            "53.1       1\n",
            "54.7       1\n",
            "Name: count, Length: 184, dtype: int64\n",
            "table\n",
            "56.0    9881\n",
            "57.0    9724\n",
            "58.0    8369\n",
            "59.0    6572\n",
            "55.0    6268\n",
            "        ... \n",
            "51.6       1\n",
            "63.5       1\n",
            "43.0       1\n",
            "62.4       1\n",
            "61.6       1\n",
            "Name: count, Length: 127, dtype: int64\n",
            "price\n",
            "605      132\n",
            "802      127\n",
            "625      126\n",
            "828      125\n",
            "776      124\n",
            "        ... \n",
            "8816       1\n",
            "14704      1\n",
            "14699      1\n",
            "14698      1\n",
            "9793       1\n",
            "Name: count, Length: 11602, dtype: int64\n",
            "x\n",
            "4.37     448\n",
            "4.34     437\n",
            "4.33     429\n",
            "4.38     428\n",
            "4.32     425\n",
            "        ... \n",
            "10.74      1\n",
            "9.36       1\n",
            "8.89       1\n",
            "10.23      1\n",
            "10.00      1\n",
            "Name: count, Length: 554, dtype: int64\n",
            "y\n",
            "4.34     437\n",
            "4.37     435\n",
            "4.35     425\n",
            "4.33     421\n",
            "4.32     414\n",
            "        ... \n",
            "8.89       1\n",
            "10.16      1\n",
            "9.46       1\n",
            "9.63       1\n",
            "31.80      1\n",
            "Name: count, Length: 552, dtype: int64\n",
            "z\n",
            "2.70     767\n",
            "2.69     748\n",
            "2.71     738\n",
            "2.68     730\n",
            "2.72     697\n",
            "        ... \n",
            "5.79       1\n",
            "5.72       1\n",
            "5.91       1\n",
            "5.61       1\n",
            "31.80      1\n",
            "Name: count, Length: 375, dtype: int64\n",
            "X_train size : (37758, 9)\n",
            "X_test size : (16182, 9)\n",
            "y_train size : (37758,)\n",
            "y_test size : (16182,)\n",
            "R^2 score for Train using sklearn: 0.8838780842365068\n",
            "R^2 score for Test using sklearn: 0.8878187588744918\n",
            "\n",
            "Mean Absolute Error for Train: 872.0510348697445\n",
            "Mean Absolute Error for Test: 853.7910819184326\n",
            "\n",
            "Mean Absolute Percentage Error for Train: 1.5814641367500504\n",
            "Mean Absolute Percentage Error for Test: 1.4816394864517115\n"
          ]
        }
      ],
      "source": [
        "### Context\n",
        "#This classic dataset contains the prices and other attributes of almost 54,000 diamonds.\n",
        "\n",
        "### Content\n",
        "'''\n",
        "**price** price in US dollars (\\\\$326--\\\\$18,823)\n",
        "\n",
        "**carat** weight of the diamond (0.2--5.01)\n",
        "\n",
        "**cut** quality of the cut (Fair, Good, Very Good, Premium, Ideal)\n",
        "\n",
        "**color** diamond colour, from J (worst) to D (best)\n",
        "\n",
        "**clarity** a measurement of how clear the diamond is (I1 (worst), SI2, SI1, VS2, VS1, VVS2, VVS1, IF (best))\n",
        "\n",
        "**x** length in mm (0--10.74)\n",
        "\n",
        "**y** width in mm (0--58.9)\n",
        "\n",
        "**z** depth in mm (0--31.8)\n",
        "\n",
        "**depth** total depth percentage = z / mean(x, y) = 2 * z / (x + y) (43--79)\n",
        "\n",
        "**table** width of top of diamond relative to widest point (43--95)\n",
        "'''\n",
        "\n",
        "# importing the libraries\n",
        "import numpy as np\n",
        "import pandas as pd\n",
        "import matplotlib.pyplot as plt\n",
        "\n",
        "\n",
        "import warnings\n",
        "warnings.filterwarnings('ignore')\n",
        "# loding the csv file as pandas dataframe\n",
        "\n",
        "#from google.colab import drive\n",
        "#drive.mount('/content/drive')\n",
        "\n",
        "# 데이터 디렉토리 경로 설정\n",
        "data_dir = '/content/diamonds.csv'\n",
        "\n",
        "diamonds = pd.read_csv(data_dir)\n",
        "# Looking at the loaded data\n",
        "print(diamonds.head(2))\n",
        "\n",
        "# dropping the first column\n",
        "diamonds = diamonds.drop(diamonds.columns[0], axis=1)\n",
        "\n",
        "# code to directly delete first column, while loding the data from csv file\n",
        "# diamonds = pd.read_csv('G:\\My Research\\CSV Files\\diamonds.csv').iloc[:,1:]\n",
        "diamonds.head()\n",
        "# checking the datatypes and null values in the data\n",
        "diamonds.info()\n",
        "#**From the above, we can see that there are no null values in our dataset.**\n",
        "# if there are null values presents in the data, then we can use imputer for filling those null values\n",
        "# from sklearn.preprocessing import Imputer\n",
        "# checking for the unique values and their total counts in the dataset,\n",
        "# to get an insight about categorical and numerical variables in the dataset\n",
        "for i in diamonds:\n",
        "    print(diamonds[i].value_counts())\n",
        "\n",
        "# defining the variables into Categorical and Numerical\n",
        "#**Categorical Variables :** cut, color, clarity\n",
        "#*Numerical Variables :** carat, depth, table, price, x, y, z\n",
        "# defining the variables into Dependent and Independent\n",
        "#**Dependent Variable :** price\n",
        "#**Independent Variable :** carat, cut, color, clarity, depth, table, x, y, z\n",
        "# Now we will see the distribution of variables\n",
        "d_cat = diamonds[['cut', 'color', 'clarity']]\n",
        "d_num = diamonds[['carat', 'depth', 'table', 'price', 'x', 'y', 'z']]\n",
        "d_num.describe()\n",
        "#From the above graph we can see that there are many outliers present in our data, thus outlier treatment is necessary,\n",
        "#but here, the target variable is Price and as we are predicting price of diamonds, then extreme values are possible, depending about the dimentions of the diamonds.\n",
        "diamonds.price.describe()\n",
        "\n",
        "# encoding categorical variables using LabelEncoder\n",
        "from sklearn.preprocessing import LabelEncoder\n",
        "le = LabelEncoder()\n",
        "diamonds['cut'] = le.fit_transform(diamonds['cut'])\n",
        "diamonds['color'] = le.fit_transform(diamonds['color'])\n",
        "diamonds['clarity'] = le.fit_transform(diamonds['clarity'])\n",
        "diamonds.dtypes\n",
        "#**Splitting the data into train and test**\n",
        "# Splitting the data into dependent and independent variables\n",
        "X=diamonds.drop('price', axis=1)\n",
        "y=diamonds['price']\n",
        "\n",
        "# Splitting into test and train data (70:30)\n",
        "from sklearn.model_selection import train_test_split\n",
        "X_train, X_test, y_train, y_test = train_test_split(X,y, test_size = 0.30, random_state = 1)\n",
        "print('X_train size :',X_train.shape)\n",
        "print('X_test size :',X_test.shape)\n",
        "print('y_train size :',y_train.shape)\n",
        "print('y_test size :',y_test.shape)\n",
        "\n",
        "\n",
        "\n",
        "from sklearn import preprocessing\n",
        "\n",
        "scaler = preprocessing.StandardScaler()\n",
        "scaled_df = scaler.fit_transform(X_train)\n",
        "scaled_df = pd.DataFrame(scaled_df, columns=X_train.columns)\n",
        "\n",
        "#**Now we can see that the values of all independent variables lie in a comparable range**\n",
        "#**Now our data is ready to fit into regression model**\n",
        "\n",
        "# defining a function for regression model\n",
        "\n",
        "# building and training the model with train data, using sklearn\n",
        "from sklearn.linear_model import LinearRegression\n",
        "from sklearn import metrics\n",
        "\n",
        "lin_reg = LinearRegression()\n",
        "lin_reg.fit(X_train, y_train)\n",
        "print(f'R^2 score for Train using sklearn: {lin_reg.score(X_train, y_train)}')\n",
        "print(f'R^2 score for Test using sklearn: {lin_reg.score(X_test, y_test)}')\n",
        "\n",
        "y_pred_train = lin_reg.predict(X_train)\n",
        "y_pred_test = lin_reg.predict(X_test)\n",
        "\n",
        "print(\"\\nMean Absolute Error for Train:\", metrics.mean_absolute_error(y_pred_train,y_train))\n",
        "print(\"Mean Absolute Error for Test:\", metrics.mean_absolute_error(y_pred_test,y_test))\n",
        "#mean_absolute_percentage_error\n",
        "print(\"\\nMean Absolute Percentage Error for Train:\", metrics.mean_absolute_percentage_error(y_pred_train,y_train))\n",
        "print(\"Mean Absolute Percentage Error for Test:\", metrics.mean_absolute_percentage_error(y_pred_test,y_test))\n",
        "\n",
        "\n"
      ]
    },
    {
      "cell_type": "markdown",
      "metadata": {
        "id": "MhYXmfWNcXLl"
      },
      "source": [
        "### `**여기서부터 코드 추가함!**`\n"
      ]
    },
    {
      "cell_type": "markdown",
      "metadata": {
        "id": "Y-DAJWxjqwre"
      },
      "source": [
        "**전처리**\n",
        "1. 독립변수 X, 종속변수 Y 정의\n",
        "2. 범주형 변수 one-hot encoding\n",
        "3. min-max 스케일링 수행"
      ]
    },
    {
      "cell_type": "code",
      "execution_count": null,
      "metadata": {
        "id": "p9m9XgoAUcdh"
      },
      "outputs": [],
      "source": [
        "# Splitting the data into log(dependent) and independent variables\n",
        "data_dir = '/content/diamonds.csv'\n",
        "#data_dir = '/content/drive/MyDrive/diamonds.csv'\n",
        "\n",
        "diamonds = pd.read_csv(data_dir)\n",
        "# 첫번째 열 삭제\n",
        "diamonds = diamonds.drop(diamonds.columns[0], axis=1)\n",
        "\n",
        "# 독립변수 X, 종속변수 Y 정의\n",
        "X = diamonds.drop('price', axis=1)\n",
        "y=diamonds['price']\n",
        "#y=y.transform(lambda X: np.log(X))\n",
        "\n",
        "# 범주형 변수 one-hot encoding\n",
        "le = LabelEncoder()\n",
        "X['cut'] = le.fit_transform(X['cut'])\n",
        "X['color'] = le.fit_transform(X['color'])\n",
        "X['clarity'] = le.fit_transform(X['clarity'])\n",
        "X.dtypes\n",
        "\n",
        "# MinMaxScaling\n",
        "from sklearn.preprocessing import MinMaxScaler\n",
        "scaler = MinMaxScaler()\n",
        "X_scaled = scaler.fit_transform(X)\n",
        "X_scaled_df = pd.DataFrame(X_scaled, columns=X.columns)"
      ]
    },
    {
      "cell_type": "markdown",
      "metadata": {
        "id": "CJ_49xlqYQS7"
      },
      "source": [
        "전처리 확인"
      ]
    },
    {
      "cell_type": "code",
      "execution_count": null,
      "metadata": {
        "colab": {
          "base_uri": "https://localhost:8080/"
        },
        "id": "O5J45FQAbXOI",
        "outputId": "732c306b-d74b-464b-dac8-61bf81442ba3"
      },
      "outputs": [
        {
          "output_type": "stream",
          "name": "stdout",
          "text": [
            "X_data:        carat   cut     color   clarity     depth     table         x         y  \\\n",
            "0  0.006237  0.50  0.166667  0.428571  0.513889  0.230769  0.367784  0.067572   \n",
            "1  0.002079  0.75  0.166667  0.285714  0.466667  0.346154  0.362197  0.065195   \n",
            "2  0.006237  0.25  0.166667  0.571429  0.386111  0.423077  0.377095  0.069100   \n",
            "\n",
            "          z  \n",
            "0  0.076415  \n",
            "1  0.072642  \n",
            "2  0.072642  \n",
            "y_data:  0    326\n",
            "1    326\n",
            "2    327\n",
            "Name: price, dtype: int64\n"
          ]
        }
      ],
      "source": [
        "print('X_data: ', X_scaled_df.head(3))\n",
        "print('y_data: ', y.head(3))"
      ]
    },
    {
      "cell_type": "markdown",
      "metadata": {
        "id": "olOV5JPOe7OB"
      },
      "source": [
        "** 모델 건설 준비 **\n",
        "1. train:test데이터 비율 설정 85:15\n",
        "2. activation fuctions별 성능 실험"
      ]
    },
    {
      "cell_type": "code",
      "execution_count": null,
      "metadata": {
        "colab": {
          "base_uri": "https://localhost:8080/"
        },
        "id": "TtKoffHFest7",
        "outputId": "c6f796cc-be34-4c0b-d9b5-f0cc60512832"
      },
      "outputs": [
        {
          "output_type": "stream",
          "name": "stdout",
          "text": [
            "X_train_full size : (45849, 9)\n",
            "X_test size : (8091, 9)\n",
            "y_train_full size : (45849,)\n",
            "y_test size : (8091,)\n"
          ]
        }
      ],
      "source": [
        "# 데이터 셋 분할\n",
        "from sklearn.model_selection import train_test_split, KFold\n",
        "X_train_full, X_test, y_train_full, y_test = train_test_split(X_scaled_df, y, test_size=0.15, random_state=1)\n",
        "\n",
        "print('X_train_full size :', X_train_full.shape)\n",
        "print('X_test size :', X_test.shape)\n",
        "print('y_train_full size :', y_train_full.shape)\n",
        "print('y_test size :', y_test.shape)"
      ]
    },
    {
      "cell_type": "code",
      "execution_count": null,
      "metadata": {
        "colab": {
          "base_uri": "https://localhost:8080/"
        },
        "id": "hFnr7-LLgGDy",
        "outputId": "f6a5468b-4834-4165-d806-dd4275aeee60"
      },
      "outputs": [
        {
          "output_type": "stream",
          "name": "stdout",
          "text": [
            "Activation function: identity\n",
            "R^2 score for Train: 0.8846022329434741\n",
            "R^2 score for Test: 0.8861715248636575\n",
            "Mean Absolute Error for Train: 867.7601432555078\n",
            "Mean Absolute Error for Test: 857.6730662780874\n",
            "Mean Absolute Percentage Error for Train: 3.0474323289012712\n",
            "Mean Absolute Percentage Error for Test: 2.070698680334101\n",
            "--------------------------------------------------\n",
            "Activation function: logistic\n",
            "R^2 score for Train: -0.016132716465534935\n",
            "R^2 score for Test: -0.015884539688853616\n",
            "Mean Absolute Error for Train: 2923.2125588296044\n",
            "Mean Absolute Error for Test: 2863.513883186326\n",
            "Mean Absolute Percentage Error for Train: 0.8530755516298664\n",
            "Mean Absolute Percentage Error for Test: 0.8356538008570275\n",
            "--------------------------------------------------\n",
            "Activation function: tanh\n",
            "R^2 score for Train: -0.015020677225138446\n",
            "R^2 score for Test: -0.014763255314010904\n",
            "Mean Absolute Error for Train: 2926.687863201699\n",
            "Mean Absolute Error for Test: 2866.9969109762988\n",
            "Mean Absolute Percentage Error for Train: 0.8496713407114095\n",
            "Mean Absolute Percentage Error for Test: 0.8323419589063361\n",
            "--------------------------------------------------\n",
            "Activation function: relu\n",
            "R^2 score for Train: 0.9618771917699983\n",
            "R^2 score for Test: 0.9618377048756195\n",
            "Mean Absolute Error for Train: 444.7887663360076\n",
            "Mean Absolute Error for Test: 441.45987473412015\n",
            "Mean Absolute Percentage Error for Train: 0.27498052208080154\n",
            "Mean Absolute Percentage Error for Test: 0.24844067488966004\n",
            "--------------------------------------------------\n"
          ]
        }
      ],
      "source": [
        "# 활성화 함수 실험\n",
        "from sklearn.neural_network import MLPRegressor\n",
        "activation_functions = ['identity', 'logistic', 'tanh', 'relu']\n",
        "\n",
        "for activation in activation_functions:\n",
        "    regr = MLPRegressor(activation=activation, hidden_layer_sizes=(50, 30), random_state=1, max_iter=500).fit(X_train_full, y_train_full)\n",
        "\n",
        "    # 훈련 및 테스트 데이터에 대한 R^2 점수 출력\n",
        "    print(f'Activation function: {activation}')\n",
        "    print(f'R^2 score for Train: {regr.score(X_train_full, y_train_full)}')\n",
        "    print(f'R^2 score for Test: {regr.score(X_test, y_test)}')\n",
        "\n",
        "    # 예측값 생성\n",
        "    y_pred_train = regr.predict(X_train_full)\n",
        "    y_pred_test = regr.predict(X_test)\n",
        "\n",
        "    # 평균 절대 오차 계산 및 출력\n",
        "    print(\"Mean Absolute Error for Train:\", metrics.mean_absolute_error(y_pred_train, y_train_full))\n",
        "    print(\"Mean Absolute Error for Test:\", metrics.mean_absolute_error(y_pred_test, y_test))\n",
        "\n",
        "    # 평균 절대 퍼센트 오차 계산 및 출력\n",
        "    print(\"Mean Absolute Percentage Error for Train:\", metrics.mean_absolute_percentage_error(y_pred_train, y_train_full))\n",
        "    print(\"Mean Absolute Percentage Error for Test:\", metrics.mean_absolute_percentage_error(y_pred_test, y_test))\n",
        "    print(\"-\" * 50)"
      ]
    },
    {
      "cell_type": "markdown",
      "metadata": {
        "id": "T2L5lSoIXM61"
      },
      "source": [
        "** 모델건설 **\n",
        "1. train:test데이터 비율 설정 85:15\n",
        "2. K-fold Cross-Validation (5-fold) 수행\n",
        "  - 교차검증을 통해 활성화 함수의 성능평가\n",
        "3. MAE를 기준으로 가장 성능이 좋은 활성화 함수를 선택\n",
        "4. 선택한 활성화 함수를 사용하여 최종 모델 학습\n",
        "5. 최종 모델을 테스트 데이터에서 평가"
      ]
    },
    {
      "cell_type": "code",
      "execution_count": null,
      "metadata": {
        "colab": {
          "base_uri": "https://localhost:8080/"
        },
        "id": "k30fOLIcTed5",
        "outputId": "037fd47a-982d-4e4d-edcb-9311b659570a"
      },
      "outputs": [
        {
          "output_type": "stream",
          "name": "stdout",
          "text": [
            "Fold 1\n",
            "Train R^2 score: 0.9455905262141319\n",
            "Validation R^2 score: 0.943959550073188\n",
            "Train MAE: 510.9694704924689\n",
            "Validation MAE: 514.0940162943297\n",
            "Train MAPE: 0.14177326508572013\n",
            "Validation MAPE: 0.13549067914679108\n",
            "\n",
            "Fold 2\n",
            "Train R^2 score: 0.9660078839667989\n",
            "Validation R^2 score: 0.968413499710451\n",
            "Train MAE: 413.8672726421285\n",
            "Validation MAE: 406.59893712969307\n",
            "Train MAPE: 0.12662317444995969\n",
            "Validation MAPE: 0.12876513653565097\n",
            "\n",
            "Fold 3\n",
            "Train R^2 score: 0.930303477587358\n",
            "Validation R^2 score: 0.9340029109865405\n",
            "Train MAE: 575.7004171796083\n",
            "Validation MAE: 562.5121624673142\n",
            "Train MAPE: 0.18448459931641675\n",
            "Validation MAPE: 0.15873546896209315\n",
            "\n",
            "Fold 4\n",
            "Train R^2 score: 0.9329434002908016\n",
            "Validation R^2 score: 0.9241366236559394\n",
            "Train MAE: 564.1666703918443\n",
            "Validation MAE: 581.2572011145863\n",
            "Train MAPE: 0.15957039625635033\n",
            "Validation MAPE: 0.30559392297045795\n",
            "\n",
            "Fold 5\n",
            "Train R^2 score: 0.9320675531236191\n",
            "Validation R^2 score: 0.934014062641846\n",
            "Train MAE: 563.2011258640237\n",
            "Validation MAE: 565.0591920053051\n",
            "Train MAPE: 0.16130352936973835\n",
            "Validation MAPE: 0.14720879671193177\n",
            "\n",
            "Average Train R^2 score: 0.9413825682365419\n",
            "Average Validation R^2 score: 0.940905329413593\n",
            "Average Train MAE: 525.5809913140148\n",
            "Average Validation MAE: 525.9043018022456\n",
            "Average Train MAPE: 0.15475099289563704\n",
            "Average Validation MAPE: 0.175158800865385\n"
          ]
        }
      ],
      "source": [
        "from sklearn.model_selection import train_test_split, StratifiedKFold\n",
        "from sklearn.neural_network import MLPRegressor\n",
        "from sklearn import metrics\n",
        "import numpy as np\n",
        "import pandas as pd\n",
        "\n",
        "# Initialize StratifiedKFold\n",
        "skf = StratifiedKFold(n_splits=5)\n",
        "\n",
        "# Variables to store scores for each fold\n",
        "train_scores = []\n",
        "val_scores = []\n",
        "train_mae = []\n",
        "val_mae = []\n",
        "train_mape = []\n",
        "val_mape = []\n",
        "\n",
        "# Create the K-Fold validation sets\n",
        "for fold, (train_index, val_index) in enumerate(skf.split(X_train_full, y_train_full)):\n",
        "    X_train_fold, X_val_fold = X_train_full.iloc[train_index], X_train_full.iloc[val_index]\n",
        "    y_train_fold, y_val_fold = y_train_full.iloc[train_index], y_train_full.iloc[val_index]\n",
        "\n",
        "    regr = MLPRegressor(hidden_layer_sizes=(50, 30), random_state=1, max_iter=500).fit(X_train_fold, y_train_fold)\n",
        "\n",
        "    train_score = regr.score(X_train_fold, y_train_fold)\n",
        "    val_score = regr.score(X_val_fold, y_val_fold)\n",
        "\n",
        "    y_pred_train_fold = regr.predict(X_train_fold)\n",
        "    y_pred_val_fold = regr.predict(X_val_fold)\n",
        "\n",
        "    train_mae_fold = metrics.mean_absolute_error(y_pred_train_fold, y_train_fold)\n",
        "    val_mae_fold = metrics.mean_absolute_error(y_pred_val_fold, y_val_fold)\n",
        "\n",
        "    train_mape_fold = metrics.mean_absolute_percentage_error(y_pred_train_fold, y_train_fold)\n",
        "    val_mape_fold = metrics.mean_absolute_percentage_error(y_pred_val_fold, y_val_fold)\n",
        "\n",
        "    train_scores.append(train_score)\n",
        "    val_scores.append(val_score)\n",
        "    train_mae.append(train_mae_fold)\n",
        "    val_mae.append(val_mae_fold)\n",
        "    train_mape.append(train_mape_fold)\n",
        "    val_mape.append(val_mape_fold)\n",
        "\n",
        "    print(f'Fold {fold + 1}')\n",
        "    print('Train R^2 score:', train_score)\n",
        "    print('Validation R^2 score:', val_score)\n",
        "    print('Train MAE:', train_mae_fold)\n",
        "    print('Validation MAE:', val_mae_fold)\n",
        "    print('Train MAPE:', train_mape_fold)\n",
        "    print('Validation MAPE:', val_mape_fold)\n",
        "    print('')\n",
        "\n",
        "# Average scores across all folds\n",
        "print('Average Train R^2 score:', np.mean(train_scores))\n",
        "print('Average Validation R^2 score:', np.mean(val_scores))\n",
        "print('Average Train MAE:', np.mean(train_mae))\n",
        "print('Average Validation MAE:', np.mean(val_mae))\n",
        "print('Average Train MAPE:', np.mean(train_mape))\n",
        "print('Average Validation MAPE:', np.mean(val_mape))\n"
      ]
    },
    {
      "cell_type": "code",
      "execution_count": null,
      "metadata": {
        "colab": {
          "base_uri": "https://localhost:8080/"
        },
        "id": "ViymhbpckN42",
        "outputId": "6af83039-5c7c-433f-bcb3-fcf1e0fa3db6"
      },
      "outputs": [
        {
          "output_type": "stream",
          "name": "stdout",
          "text": [
            "\n",
            "R^2 score for Test using mlp: 0.9618377048756195\n",
            "Mean Absolute Error for Test: 441.45987473412015\n",
            "Mean Absolute Percentage Error for Test: 0.24844067488966004\n"
          ]
        }
      ],
      "source": [
        "# Final evaluation on the test set\n",
        "regr = MLPRegressor(hidden_layer_sizes=(50, 30), random_state=1, max_iter=500).fit(X_train_full, y_train_full)\n",
        "test_score = regr.score(X_test, y_test)\n",
        "y_pred_test = regr.predict(X_test)\n",
        "\n",
        "print(f'\\nR^2 score for Test using mlp: {test_score}')\n",
        "print(\"Mean Absolute Error for Test:\", metrics.mean_absolute_error(y_pred_test, y_test))\n",
        "print(\"Mean Absolute Percentage Error for Test:\", metrics.mean_absolute_percentage_error(y_pred_test, y_test))\n"
      ]
    },
    {
      "cell_type": "markdown",
      "metadata": {
        "id": "vhlU1fq6sIN3"
      },
      "source": [
        "**MLP 성능 확인**\n",
        "1. RELU 함수 사용\n",
        " - identity, logistic, tanh 활성화 함수는 성능이 좋지 않아 사용하지 않음.\n",
        "2. 2개의 Hidden layer를 가지는 MLP 구현\n",
        "3. 레이어별 50, 30개의 노드 사용\n",
        "\n",
        "**결과 비교 (Linear Regression vs Neural Network)**\n",
        "- R2 SCORE: 0.88  → 0.96\n",
        "- MAE     : $853 → $441\n",
        "- MAPE    : 1.48  → 0.24\n",
        "\n"
      ]
    },
    {
      "cell_type": "markdown",
      "metadata": {
        "id": "PNvOq6oltYbS"
      },
      "source": [
        "사용된 하이퍼 파라미터"
      ]
    },
    {
      "cell_type": "code",
      "execution_count": null,
      "metadata": {
        "colab": {
          "base_uri": "https://localhost:8080/"
        },
        "id": "75pxNGQVtUBd",
        "outputId": "c50236b0-92c3-438a-88c5-2929353b2ffb"
      },
      "outputs": [
        {
          "output_type": "stream",
          "name": "stdout",
          "text": [
            "Hidden layer sizes: (50, 30)\n",
            "Activation function: relu\n",
            "Solver: adam\n",
            "Alpha (L2 regularization strength): 0.0001\n",
            "Learning rate schedule: constant\n",
            "Maximum number of iterations: 500\n",
            "Random state: 1\n"
          ]
        }
      ],
      "source": [
        "print(\"Hidden layer sizes:\", regr.hidden_layer_sizes)\n",
        "print(\"Activation function:\", regr.activation)\n",
        "print(\"Solver:\", regr.solver)\n",
        "print(\"Alpha (L2 regularization strength):\", regr.alpha)\n",
        "print(\"Learning rate schedule:\", regr.learning_rate)\n",
        "print(\"Maximum number of iterations:\", regr.max_iter)\n",
        "print(\"Random state:\", regr.random_state)"
      ]
    },
    {
      "cell_type": "markdown",
      "metadata": {
        "id": "TwCChJD57dnl"
      },
      "source": [
        "**SHAP 방법론을 활용한 결과 해석**\n"
      ]
    },
    {
      "cell_type": "code",
      "execution_count": null,
      "metadata": {
        "colab": {
          "base_uri": "https://localhost:8080/"
        },
        "id": "ZFfABgzy7Ylh",
        "outputId": "fd7680e7-f85e-413a-cce5-f0580b9d47bb"
      },
      "outputs": [
        {
          "output_type": "stream",
          "name": "stdout",
          "text": [
            "Collecting shap\n",
            "  Downloading shap-0.45.1-cp310-cp310-manylinux_2_12_x86_64.manylinux2010_x86_64.manylinux_2_17_x86_64.manylinux2014_x86_64.whl (540 kB)\n",
            "\u001b[2K     \u001b[90m━━━━━━━━━━━━━━━━━━━━━━━━━━━━━━━━━━━━━━━━\u001b[0m \u001b[32m540.5/540.5 kB\u001b[0m \u001b[31m5.3 MB/s\u001b[0m eta \u001b[36m0:00:00\u001b[0m\n",
            "\u001b[?25hRequirement already satisfied: numpy in /usr/local/lib/python3.10/dist-packages (from shap) (1.25.2)\n",
            "Requirement already satisfied: scipy in /usr/local/lib/python3.10/dist-packages (from shap) (1.11.4)\n",
            "Requirement already satisfied: scikit-learn in /usr/local/lib/python3.10/dist-packages (from shap) (1.2.2)\n",
            "Requirement already satisfied: pandas in /usr/local/lib/python3.10/dist-packages (from shap) (2.0.3)\n",
            "Requirement already satisfied: tqdm>=4.27.0 in /usr/local/lib/python3.10/dist-packages (from shap) (4.66.4)\n",
            "Requirement already satisfied: packaging>20.9 in /usr/local/lib/python3.10/dist-packages (from shap) (24.1)\n",
            "Collecting slicer==0.0.8 (from shap)\n",
            "  Downloading slicer-0.0.8-py3-none-any.whl (15 kB)\n",
            "Requirement already satisfied: numba in /usr/local/lib/python3.10/dist-packages (from shap) (0.58.1)\n",
            "Requirement already satisfied: cloudpickle in /usr/local/lib/python3.10/dist-packages (from shap) (2.2.1)\n",
            "Requirement already satisfied: llvmlite<0.42,>=0.41.0dev0 in /usr/local/lib/python3.10/dist-packages (from numba->shap) (0.41.1)\n",
            "Requirement already satisfied: python-dateutil>=2.8.2 in /usr/local/lib/python3.10/dist-packages (from pandas->shap) (2.8.2)\n",
            "Requirement already satisfied: pytz>=2020.1 in /usr/local/lib/python3.10/dist-packages (from pandas->shap) (2023.4)\n",
            "Requirement already satisfied: tzdata>=2022.1 in /usr/local/lib/python3.10/dist-packages (from pandas->shap) (2024.1)\n",
            "Requirement already satisfied: joblib>=1.1.1 in /usr/local/lib/python3.10/dist-packages (from scikit-learn->shap) (1.4.2)\n",
            "Requirement already satisfied: threadpoolctl>=2.0.0 in /usr/local/lib/python3.10/dist-packages (from scikit-learn->shap) (3.5.0)\n",
            "Requirement already satisfied: six>=1.5 in /usr/local/lib/python3.10/dist-packages (from python-dateutil>=2.8.2->pandas->shap) (1.16.0)\n",
            "Installing collected packages: slicer, shap\n",
            "Successfully installed shap-0.45.1 slicer-0.0.8\n"
          ]
        }
      ],
      "source": [
        "!pip install shap"
      ]
    },
    {
      "cell_type": "code",
      "execution_count": null,
      "metadata": {
        "colab": {
          "base_uri": "https://localhost:8080/",
          "height": 548,
          "referenced_widgets": [
            "bba3f0aef9db430fb7cade0869e3b6a0",
            "a0d163b4ac2e442d99eb0002dfc187db",
            "a4da7d4fa8bc4e03a2d43222fdc8d95a",
            "7e7260cc58a54a408eda59cabeba9fa3",
            "a000d480ddc149df828275141cd59278",
            "578bb06c39fc4446904728b1d6efddee",
            "003ba24871d7474292c073dc96c78956",
            "11971a9b096a4539ac60c14dc911269b",
            "d2485df63533497c8757c7c108dbca71",
            "5b2dbd8415d940ac9e7b1b0b85e0c710",
            "c60b1c7d4dd8486da5513e250c3745d9"
          ]
        },
        "id": "v5193Ksc7n9j",
        "outputId": "73124325-0990-4e12-d107-a8f3d9a460fa"
      },
      "outputs": [
        {
          "output_type": "display_data",
          "data": {
            "text/plain": [
              "  0%|          | 0/8091 [00:00<?, ?it/s]"
            ],
            "application/vnd.jupyter.widget-view+json": {
              "version_major": 2,
              "version_minor": 0,
              "model_id": "bba3f0aef9db430fb7cade0869e3b6a0"
            }
          },
          "metadata": {}
        },
        {
          "output_type": "display_data",
          "data": {
            "text/plain": [
              "<Figure size 800x510 with 1 Axes>"
            ],
            "image/png": "[encoded data removed]"
          },
          "metadata": {}
        }
      ],
      "source": [
        "import shap\n",
        "import matplotlib.pyplot as plt\n",
        "\n",
        "# MLPRegressor의 경우 SHAP explainer에서 직접적으로 지원되지 않는 모델 유형이므로, KernelExplainer를 사용\n",
        "# 학습 데이터셋에서 일부 샘플을 선택하여 사용 (속도 향상을 위해)\n",
        "X_sample = shap.sample(X_train, 100)\n",
        "\n",
        "# KernelExplainer 생성\n",
        "explainer = shap.KernelExplainer(regr.predict, X_sample)\n",
        "shap_values = explainer.shap_values(X_test, nsamples=100)\n",
        "\n",
        "# SHAP Summary Plot\n",
        "shap.summary_plot(shap_values, X_test, plot_type=\"bar\")"
      ]
    }
  ],
  "metadata": {
    "colab": {
      "provenance": []
    },
    "kernelspec": {
      "display_name": "Python 3",
      "name": "python3"
    },
    "language_info": {
      "name": "python"
    },
    "widgets": {
      "application/vnd.jupyter.widget-state+json": {
        "bba3f0aef9db430fb7cade0869e3b6a0": {
          "model_module": "@jupyter-widgets/controls",
          "model_name": "HBoxModel",
          "model_module_version": "1.5.0",
          "state": {
            "_dom_classes": [],
            "_model_module": "@jupyter-widgets/controls",
            "_model_module_version": "1.5.0",
            "_model_name": "HBoxModel",
            "_view_count": null,
            "_view_module": "@jupyter-widgets/controls",
            "_view_module_version": "1.5.0",
            "_view_name": "HBoxView",
            "box_style": "",
            "children": [
              "IPY_MODEL_a0d163b4ac2e442d99eb0002dfc187db",
              "IPY_MODEL_a4da7d4fa8bc4e03a2d43222fdc8d95a",
              "IPY_MODEL_7e7260cc58a54a408eda59cabeba9fa3"
            ],
            "layout": "IPY_MODEL_a000d480ddc149df828275141cd59278"
          }
        },
        "a0d163b4ac2e442d99eb0002dfc187db": {
          "model_module": "@jupyter-widgets/controls",
          "model_name": "HTMLModel",
          "model_module_version": "1.5.0",
          "state": {
            "_dom_classes": [],
            "_model_module": "@jupyter-widgets/controls",
            "_model_module_version": "1.5.0",
            "_model_name": "HTMLModel",
            "_view_count": null,
            "_view_module": "@jupyter-widgets/controls",
            "_view_module_version": "1.5.0",
            "_view_name": "HTMLView",
            "description": "",
            "description_tooltip": null,
            "layout": "IPY_MODEL_578bb06c39fc4446904728b1d6efddee",
            "placeholder": "​",
            "style": "IPY_MODEL_003ba24871d7474292c073dc96c78956",
            "value": "100%"
          }
        },
        "a4da7d4fa8bc4e03a2d43222fdc8d95a": {
          "model_module": "@jupyter-widgets/controls",
          "model_name": "FloatProgressModel",
          "model_module_version": "1.5.0",
          "state": {
            "_dom_classes": [],
            "_model_module": "@jupyter-widgets/controls",
            "_model_module_version": "1.5.0",
            "_model_name": "FloatProgressModel",
            "_view_count": null,
            "_view_module": "@jupyter-widgets/controls",
            "_view_module_version": "1.5.0",
            "_view_name": "ProgressView",
            "bar_style": "success",
            "description": "",
            "description_tooltip": null,
            "layout": "IPY_MODEL_11971a9b096a4539ac60c14dc911269b",
            "max": 8091,
            "min": 0,
            "orientation": "horizontal",
            "style": "IPY_MODEL_d2485df63533497c8757c7c108dbca71",
            "value": 8091
          }
        },
        "7e7260cc58a54a408eda59cabeba9fa3": {
          "model_module": "@jupyter-widgets/controls",
          "model_name": "HTMLModel",
          "model_module_version": "1.5.0",
          "state": {
            "_dom_classes": [],
            "_model_module": "@jupyter-widgets/controls",
            "_model_module_version": "1.5.0",
            "_model_name": "HTMLModel",
            "_view_count": null,
            "_view_module": "@jupyter-widgets/controls",
            "_view_module_version": "1.5.0",
            "_view_name": "HTMLView",
            "description": "",
            "description_tooltip": null,
            "layout": "IPY_MODEL_5b2dbd8415d940ac9e7b1b0b85e0c710",
            "placeholder": "​",
            "style": "IPY_MODEL_c60b1c7d4dd8486da5513e250c3745d9",
            "value": " 8091/8091 [31:08&lt;00:00,  4.93it/s]"
          }
        },
        "a000d480ddc149df828275141cd59278": {
          "model_module": "@jupyter-widgets/base",
          "model_name": "LayoutModel",
          "model_module_version": "1.2.0",
          "state": {
            "_model_module": "@jupyter-widgets/base",
            "_model_module_version": "1.2.0",
            "_model_name": "LayoutModel",
            "_view_count": null,
            "_view_module": "@jupyter-widgets/base",
            "_view_module_version": "1.2.0",
            "_view_name": "LayoutView",
            "align_content": null,
            "align_items": null,
            "align_self": null,
            "border": null,
            "bottom": null,
            "display": null,
            "flex": null,
            "flex_flow": null,
            "grid_area": null,
            "grid_auto_columns": null,
            "grid_auto_flow": null,
            "grid_auto_rows": null,
            "grid_column": null,
            "grid_gap": null,
            "grid_row": null,
            "grid_template_areas": null,
            "grid_template_columns": null,
            "grid_template_rows": null,
            "height": null,
            "justify_content": null,
            "justify_items": null,
            "left": null,
            "margin": null,
            "max_height": null,
            "max_width": null,
            "min_height": null,
            "min_width": null,
            "object_fit": null,
            "object_position": null,
            "order": null,
            "overflow": null,
            "overflow_x": null,
            "overflow_y": null,
            "padding": null,
            "right": null,
            "top": null,
            "visibility": null,
            "width": null
          }
        },
        "578bb06c39fc4446904728b1d6efddee": {
          "model_module": "@jupyter-widgets/base",
          "model_name": "LayoutModel",
          "model_module_version": "1.2.0",
          "state": {
            "_model_module": "@jupyter-widgets/base",
            "_model_module_version": "1.2.0",
            "_model_name": "LayoutModel",
            "_view_count": null,
            "_view_module": "@jupyter-widgets/base",
            "_view_module_version": "1.2.0",
            "_view_name": "LayoutView",
            "align_content": null,
            "align_items": null,
            "align_self": null,
            "border": null,
            "bottom": null,
            "display": null,
            "flex": null,
            "flex_flow": null,
            "grid_area": null,
            "grid_auto_columns": null,
            "grid_auto_flow": null,
            "grid_auto_rows": null,
            "grid_column": null,
            "grid_gap": null,
            "grid_row": null,
            "grid_template_areas": null,
            "grid_template_columns": null,
            "grid_template_rows": null,
            "height": null,
            "justify_content": null,
            "justify_items": null,
            "left": null,
            "margin": null,
            "max_height": null,
            "max_width": null,
            "min_height": null,
            "min_width": null,
            "object_fit": null,
            "object_position": null,
            "order": null,
            "overflow": null,
            "overflow_x": null,
            "overflow_y": null,
            "padding": null,
            "right": null,
            "top": null,
            "visibility": null,
            "width": null
          }
        },
        "003ba24871d7474292c073dc96c78956": {
          "model_module": "@jupyter-widgets/controls",
          "model_name": "DescriptionStyleModel",
          "model_module_version": "1.5.0",
          "state": {
            "_model_module": "@jupyter-widgets/controls",
            "_model_module_version": "1.5.0",
            "_model_name": "DescriptionStyleModel",
            "_view_count": null,
            "_view_module": "@jupyter-widgets/base",
            "_view_module_version": "1.2.0",
            "_view_name": "StyleView",
            "description_width": ""
          }
        },
        "11971a9b096a4539ac60c14dc911269b": {
          "model_module": "@jupyter-widgets/base",
          "model_name": "LayoutModel",
          "model_module_version": "1.2.0",
          "state": {
            "_model_module": "@jupyter-widgets/base",
            "_model_module_version": "1.2.0",
            "_model_name": "LayoutModel",
            "_view_count": null,
            "_view_module": "@jupyter-widgets/base",
            "_view_module_version": "1.2.0",
            "_view_name": "LayoutView",
            "align_content": null,
            "align_items": null,
            "align_self": null,
            "border": null,
            "bottom": null,
            "display": null,
            "flex": null,
            "flex_flow": null,
            "grid_area": null,
            "grid_auto_columns": null,
            "grid_auto_flow": null,
            "grid_auto_rows": null,
            "grid_column": null,
            "grid_gap": null,
            "grid_row": null,
            "grid_template_areas": null,
            "grid_template_columns": null,
            "grid_template_rows": null,
            "height": null,
            "justify_content": null,
            "justify_items": null,
            "left": null,
            "margin": null,
            "max_height": null,
            "max_width": null,
            "min_height": null,
            "min_width": null,
            "object_fit": null,
            "object_position": null,
            "order": null,
            "overflow": null,
            "overflow_x": null,
            "overflow_y": null,
            "padding": null,
            "right": null,
            "top": null,
            "visibility": null,
            "width": null
          }
        },
        "d2485df63533497c8757c7c108dbca71": {
          "model_module": "@jupyter-widgets/controls",
          "model_name": "ProgressStyleModel",
          "model_module_version": "1.5.0",
          "state": {
            "_model_module": "@jupyter-widgets/controls",
            "_model_module_version": "1.5.0",
            "_model_name": "ProgressStyleModel",
            "_view_count": null,
            "_view_module": "@jupyter-widgets/base",
            "_view_module_version": "1.2.0",
            "_view_name": "StyleView",
            "bar_color": null,
            "description_width": ""
          }
        },
        "5b2dbd8415d940ac9e7b1b0b85e0c710": {
          "model_module": "@jupyter-widgets/base",
          "model_name": "LayoutModel",
          "model_module_version": "1.2.0",
          "state": {
            "_model_module": "@jupyter-widgets/base",
            "_model_module_version": "1.2.0",
            "_model_name": "LayoutModel",
            "_view_count": null,
            "_view_module": "@jupyter-widgets/base",
            "_view_module_version": "1.2.0",
            "_view_name": "LayoutView",
            "align_content": null,
            "align_items": null,
            "align_self": null,
            "border": null,
            "bottom": null,
            "display": null,
            "flex": null,
            "flex_flow": null,
            "grid_area": null,
            "grid_auto_columns": null,
            "grid_auto_flow": null,
            "grid_auto_rows": null,
            "grid_column": null,
            "grid_gap": null,
            "grid_row": null,
            "grid_template_areas": null,
            "grid_template_columns": null,
            "grid_template_rows": null,
            "height": null,
            "justify_content": null,
            "justify_items": null,
            "left": null,
            "margin": null,
            "max_height": null,
            "max_width": null,
            "min_height": null,
            "min_width": null,
            "object_fit": null,
            "object_position": null,
            "order": null,
            "overflow": null,
            "overflow_x": null,
            "overflow_y": null,
            "padding": null,
            "right": null,
            "top": null,
            "visibility": null,
            "width": null
          }
        },
        "c60b1c7d4dd8486da5513e250c3745d9": {
          "model_module": "@jupyter-widgets/controls",
          "model_name": "DescriptionStyleModel",
          "model_module_version": "1.5.0",
          "state": {
            "_model_module": "@jupyter-widgets/controls",
            "_model_module_version": "1.5.0",
            "_model_name": "DescriptionStyleModel",
            "_view_count": null,
            "_view_module": "@jupyter-widgets/base",
            "_view_module_version": "1.2.0",
            "_view_name": "StyleView",
            "description_width": ""
          }
        }
      }
    }
  },
  "nbformat": 4,
  "nbformat_minor": 0
}